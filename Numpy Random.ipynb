{
 "cells": [
  {
   "cell_type": "markdown",
   "id": "74d09906",
   "metadata": {},
   "source": [
    "# Name : M.Usman Akram\n",
    "# Roll # : 20CS14\n",
    "# NumPy Random"
   ]
  },
  {
   "cell_type": "markdown",
   "id": "f261ad4e",
   "metadata": {},
   "source": [
    "## Random Number:\n",
    "-  Random number does NOT mean a different number every time.\n",
    "- Random means something that can not be predicted logically."
   ]
  },
  {
   "cell_type": "markdown",
   "id": "ae74a161",
   "metadata": {},
   "source": [
    "### Generate Random Number :\n",
    "- NumPy offers the random module to work with random numbers."
   ]
  },
  {
   "cell_type": "markdown",
   "id": "7c600936",
   "metadata": {},
   "source": [
    "#### Example:\n",
    "- Generate a random integer from 0 to 100."
   ]
  },
  {
   "cell_type": "code",
   "execution_count": 15,
   "id": "3738b2e0",
   "metadata": {},
   "outputs": [
    {
     "name": "stdout",
     "output_type": "stream",
     "text": [
      "56\n"
     ]
    }
   ],
   "source": [
    "from numpy import random as r\n",
    "array_1=r.randint(100)\n",
    "print(array_1)"
   ]
  },
  {
   "cell_type": "markdown",
   "id": "5133c640",
   "metadata": {},
   "source": [
    "### Generate Random Float:\n",
    "- The random module's rand() method returns a random float between 0 and 1."
   ]
  },
  {
   "cell_type": "markdown",
   "id": "d345c6fd",
   "metadata": {},
   "source": [
    "#### Example:\n",
    "- Generate a random float from 0 to 1."
   ]
  },
  {
   "cell_type": "code",
   "execution_count": 22,
   "id": "aa450dbd",
   "metadata": {},
   "outputs": [
    {
     "name": "stdout",
     "output_type": "stream",
     "text": [
      "0.04832640417635847\n"
     ]
    }
   ],
   "source": [
    "from numpy import random\n",
    "Array_2=random.rand()\n",
    "print(Array_2)"
   ]
  },
  {
   "cell_type": "markdown",
   "id": "f57f25af",
   "metadata": {},
   "source": [
    "### Generate Random Array :\n",
    "- In NumPy we work with arrays, and you can use the two methods from the above examples to make random arrays.\n",
    "- The randint() method takes a size parameter where you can specify the shape of an array."
   ]
  },
  {
   "cell_type": "markdown",
   "id": "cf7025c0",
   "metadata": {},
   "source": [
    "#### Example:\n",
    "- Generate a 1-D array containing 5 random integers from 0 to 100.\n"
   ]
  },
  {
   "cell_type": "code",
   "execution_count": 2,
   "id": "475fa506",
   "metadata": {},
   "outputs": [
    {
     "name": "stdout",
     "output_type": "stream",
     "text": [
      "[0 5 2 9 3]\n"
     ]
    }
   ],
   "source": [
    "from numpy import random\n",
    "Array_3=random.randint(10,size=5)\n",
    "print(Array_3)"
   ]
  },
  {
   "cell_type": "markdown",
   "id": "96ee33dc",
   "metadata": {},
   "source": [
    "#### Example # 02:\n",
    "- Generate a 2-D array with 3 rows, each row containing 5 random integers from 0 to 100:"
   ]
  },
  {
   "cell_type": "code",
   "execution_count": 3,
   "id": "0d72cf5c",
   "metadata": {},
   "outputs": [
    {
     "name": "stdout",
     "output_type": "stream",
     "text": [
      "[[61 91 25 50 31]\n",
      " [ 7 53 15 67 48]\n",
      " [46  2  0 13 76]]\n"
     ]
    }
   ],
   "source": [
    "from numpy import random\n",
    "Array_4 = random.randint(100, size=(3, 5))\n",
    "print(Array_4)"
   ]
  },
  {
   "cell_type": "markdown",
   "id": "af86e287",
   "metadata": {},
   "source": [
    "### Floats:\n",
    "- The rand() method also allows you to specify the shape of the array."
   ]
  },
  {
   "cell_type": "markdown",
   "id": "becc1998",
   "metadata": {},
   "source": [
    "#### Example:\n",
    "- Generate a 1-D array containing 5 random floats:"
   ]
  },
  {
   "cell_type": "code",
   "execution_count": 6,
   "id": "77937f6e",
   "metadata": {},
   "outputs": [
    {
     "name": "stdout",
     "output_type": "stream",
     "text": [
      "[0.37945997 0.88814583 0.30380074 0.96664243 0.60263041]\n"
     ]
    }
   ],
   "source": [
    "from numpy import random\n",
    "Array_5 = random.rand(5)\n",
    "print(Array_5)"
   ]
  },
  {
   "cell_type": "markdown",
   "id": "e053f9e9",
   "metadata": {},
   "source": [
    "#### Example # 02:\n",
    "- Generate a 2-D array with 3 rows, each row containing 5 random numbers."
   ]
  },
  {
   "cell_type": "code",
   "execution_count": 7,
   "id": "097d26d7",
   "metadata": {},
   "outputs": [
    {
     "name": "stdout",
     "output_type": "stream",
     "text": [
      "[[0.28267819 0.69614099 0.52015328 0.17915393 0.40340626]\n",
      " [0.59443743 0.77518164 0.3044292  0.6175347  0.16345422]\n",
      " [0.48419542 0.02188167 0.56223123 0.33992302 0.0418706 ]]\n"
     ]
    }
   ],
   "source": [
    "from numpy import random\n",
    "x = random.rand(3, 2)\n",
    "print(x)"
   ]
  },
  {
   "cell_type": "markdown",
   "id": "d3278510",
   "metadata": {},
   "source": [
    "### Generate Random Number From Array:\n",
    "- The choice() method allows you to generate a random value based on an array of values.\n",
    "\n",
    "- The choice() method takes an array as a parameter and randomly returns one of the values."
   ]
  },
  {
   "cell_type": "code",
   "execution_count": 7,
   "id": "64052cc6",
   "metadata": {},
   "outputs": [
    {
     "name": "stdout",
     "output_type": "stream",
     "text": [
      "4\n"
     ]
    }
   ],
   "source": [
    "from numpy import random\n",
    "Array_6=random.choice([1,2,3,4,5])\n",
    "print(Array_6)"
   ]
  },
  {
   "cell_type": "markdown",
   "id": "780ca18e",
   "metadata": {},
   "source": [
    "- The choice() method also allows you to return an array of values.\n",
    "\n",
    "- Add a size parameter to specify the shape of the array."
   ]
  },
  {
   "cell_type": "markdown",
   "id": "784a6886",
   "metadata": {},
   "source": [
    "- 1D Array:"
   ]
  },
  {
   "cell_type": "code",
   "execution_count": 10,
   "id": "02a9ea0c",
   "metadata": {},
   "outputs": [
    {
     "name": "stdout",
     "output_type": "stream",
     "text": [
      "[ 2 12 12 12 55]\n"
     ]
    }
   ],
   "source": [
    "from numpy import random\n",
    "Array_7=random.choice([21,45,23,12,2,43,55,33],size=(5))\n",
    "print(Array_7)\n"
   ]
  },
  {
   "cell_type": "markdown",
   "id": "126cb291",
   "metadata": {},
   "source": [
    "- 2D Array:"
   ]
  },
  {
   "cell_type": "code",
   "execution_count": 11,
   "id": "ed56c50e",
   "metadata": {},
   "outputs": [
    {
     "name": "stdout",
     "output_type": "stream",
     "text": [
      "[[ 12  12]\n",
      " [345 212]]\n"
     ]
    }
   ],
   "source": [
    "from numpy import random\n",
    "Array_8=random.choice([12,345,23,12,22,212,45], size=(2,2))\n",
    "print(Array_8)"
   ]
  },
  {
   "cell_type": "markdown",
   "id": "6e4840e9",
   "metadata": {},
   "source": [
    "## Data Distribution:\n",
    "- Data Distribution is a list of all possible values, and how often each value occurs.\n",
    "\n",
    "- Such lists are important when working with statistics and data science.\n",
    "\n",
    "- The random module offer methods that returns randomly generated data distributions."
   ]
  },
  {
   "cell_type": "markdown",
   "id": "4cd36f4b",
   "metadata": {},
   "source": [
    "### Random Distribution:\n",
    "- A random distribution is a set of random numbers that follow a certain probability density function.\n",
    "#### Probability Density Function:\n",
    "- A function that describes a continuous probability. i.e. probability of all values in an array.\n",
    "- The sum of all probability numbers should be 1.\n",
    "#### Example :\n",
    "- Generate a 1-D array containing 100 values, where each value has to be 3, 5, 7 or 9.\n",
    "\n",
    "- The probability for the value to be 3 is set to be 0.1\n",
    "\n",
    "- The probability for the value to be 5 is set to be 0.3\n",
    "\n",
    "- The probability for the value to be 7 is set to be 0.6\n",
    "\n",
    "- The probability for the value to be 9 is set to be 0"
   ]
  },
  {
   "cell_type": "code",
   "execution_count": 14,
   "id": "679d5ec6",
   "metadata": {},
   "outputs": [
    {
     "name": "stdout",
     "output_type": "stream",
     "text": [
      "[7 7 7 7 7 7 5 5 7 5 5 5 7 5 7 7 7 7 7 7 7 5 7 7 5 7 3 7 7 7 7 7 7 7 7 7 7\n",
      " 7 5 5 5 7 7 7 5 7 3 5 7 7 7 7 3 3 7 5 7 7 7 3 7 7 7 3 7 7 5 5 7 7 7 5 7 3\n",
      " 7 7 7 7 5 5 5 7 7 7 7 5 7 7 7 7 5 3 7 7 5 5 7 7 5 5]\n"
     ]
    }
   ],
   "source": [
    "from numpy import random\n",
    "Array_9=random.choice([3,5,7,9],p=[0.1,0.3,0.6,0],size=100)\n",
    "print(Array_9)"
   ]
  },
  {
   "cell_type": "markdown",
   "id": "6c5641da",
   "metadata": {},
   "source": [
    "## Random Permutations:\n",
    "- A permutation refers to an arrangement of elements. e.g. [3, 2, 1] is a permutation of [1, 2, 3] and vice-versa.\n",
    "\n",
    "- The NumPy Random module provides two methods for this: shuffle() and permutation()."
   ]
  },
  {
   "cell_type": "markdown",
   "id": "868dfd27",
   "metadata": {},
   "source": [
    "### Shuffling Arrays:\n",
    "- Shuffle means changing arrangement of elements in-place. i.e. in the array itself.\n",
    "- The shuffle() method makes changes to the original array."
   ]
  },
  {
   "cell_type": "code",
   "execution_count": 17,
   "id": "eb63ceb0",
   "metadata": {},
   "outputs": [
    {
     "name": "stdout",
     "output_type": "stream",
     "text": [
      "[1 2 3 4 5]\n",
      "[1 3 4 5 2]\n"
     ]
    }
   ],
   "source": [
    "import numpy as np\n",
    "from numpy import random\n",
    "Array_10=np.array([1,2,3,4,5])\n",
    "print(Array_10)\n",
    "random.shuffle(Array_10)\n",
    "print(Array_10)"
   ]
  },
  {
   "cell_type": "markdown",
   "id": "303647dc",
   "metadata": {},
   "source": [
    "### Generating Permutation of Arrays :\n",
    "- The permutation() method returns a re-arranged array (and leaves the original array un-changed)."
   ]
  },
  {
   "cell_type": "markdown",
   "id": "7fdd3701",
   "metadata": {},
   "source": [
    "#### Example:\n",
    "- Generate a random permutation of elements of following array."
   ]
  },
  {
   "cell_type": "code",
   "execution_count": 23,
   "id": "c4d8d903",
   "metadata": {},
   "outputs": [
    {
     "name": "stdout",
     "output_type": "stream",
     "text": [
      "[2 4 3 5 1]\n"
     ]
    }
   ],
   "source": [
    "from numpy import random\n",
    "import numpy as np\n",
    "arr = np.array([1, 2, 3, 4, 5])\n",
    "print(random.permutation(arr))\n"
   ]
  },
  {
   "cell_type": "markdown",
   "id": "b2d6bcdd",
   "metadata": {},
   "source": [
    "## Visualize Distributions With Seaborn:\n",
    "- Seaborn is a library that uses Matplotlib underneath to plot graphs. It will be used to visualize random distributions.\n",
    "- pip install seaborn."
   ]
  },
  {
   "cell_type": "markdown",
   "id": "64aa8c47",
   "metadata": {},
   "source": [
    "### Distplots:\n",
    "- Distplot stands for distribution plot, it takes as input an array and plots a curve corresponding to the distribution of points in the array."
   ]
  },
  {
   "cell_type": "markdown",
   "id": "541a3cad",
   "metadata": {},
   "source": [
    "### Import Matplotlib:\n",
    "- Import the pyplot object of the Matplotlib module in your code using the following statement."
   ]
  },
  {
   "cell_type": "markdown",
   "id": "47d5bad5",
   "metadata": {},
   "source": [
    "### Plotting a Distplot :"
   ]
  },
  {
   "cell_type": "markdown",
   "id": "889f4bac",
   "metadata": {},
   "source": [
    "#### Example:"
   ]
  },
  {
   "cell_type": "code",
   "execution_count": 2,
   "id": "0bac32d8",
   "metadata": {},
   "outputs": [],
   "source": [
    "import warnings\n",
    "warnings.filterwarnings('ignore')"
   ]
  },
  {
   "cell_type": "code",
   "execution_count": 4,
   "id": "8f576428",
   "metadata": {},
   "outputs": [
    {
     "data": {
      "image/png": "[encoded data removed]",
      "text/plain": [
       "<Figure size 432x288 with 1 Axes>"
      ]
     },
     "metadata": {
      "needs_background": "light"
     },
     "output_type": "display_data"
    }
   ],
   "source": [
    "import matplotlib.pyplot as plt\n",
    "import seaborn as sns\n",
    "\n",
    "sns.distplot([12,34,22,11,6])\n",
    "plt.show()\n"
   ]
  },
  {
   "cell_type": "code",
   "execution_count": 5,
   "id": "a42ac81f",
   "metadata": {},
   "outputs": [
    {
     "data": {
      "image/png": "[encoded data removed]",
      "text/plain": [
       "<Figure size 432x288 with 1 Axes>"
      ]
     },
     "metadata": {
      "needs_background": "light"
     },
     "output_type": "display_data"
    }
   ],
   "source": [
    "import matplotlib.pyplot as plt\n",
    "import seaborn as sns\n",
    "sns.distplot([12,32,2,5,7])\n",
    "plt.show()"
   ]
  },
  {
   "cell_type": "markdown",
   "id": "48d73c0d",
   "metadata": {},
   "source": [
    "- We will be using: sns.distplot(arr, hist=False) to visualize random distributions in this tutorial."
   ]
  },
  {
   "cell_type": "code",
   "execution_count": 6,
   "id": "ea30d705",
   "metadata": {},
   "outputs": [
    {
     "data": {
      "image/png": "[encoded data removed]",
      "text/plain": [
       "<Figure size 432x288 with 1 Axes>"
      ]
     },
     "metadata": {
      "needs_background": "light"
     },
     "output_type": "display_data"
    }
   ],
   "source": [
    "import matplotlib.pyplot as plt\n",
    "import seaborn as sns\n",
    "sns.distplot([0, 1, 2, 3, 4, 5],hist=False)\n",
    "plt.show()"
   ]
  },
  {
   "cell_type": "code",
   "execution_count": 9,
   "id": "c1a97238",
   "metadata": {},
   "outputs": [
    {
     "data": {
      "image/png": "[encoded data removed]",
      "text/plain": [
       "<Figure size 432x288 with 1 Axes>"
      ]
     },
     "metadata": {
      "needs_background": "light"
     },
     "output_type": "display_data"
    }
   ],
   "source": [
    "import warnings\n",
    "warnings.filterwarnings('ignore')\n",
    "import numpy as np\n",
    "import matplotlib.pyplot as plt\n",
    "import seaborn as sns\n",
    "Array_12=np.array([12,34,21,45,32])\n",
    "sns.distplot(Array_12)\n",
    "plt.show()"
   ]
  },
  {
   "cell_type": "code",
   "execution_count": 3,
   "id": "701c13b8",
   "metadata": {},
   "outputs": [],
   "source": [
    "import warnings\n",
    "warnings.filterwarnings('ignore')"
   ]
  },
  {
   "cell_type": "code",
   "execution_count": 8,
   "id": "0f9aad9d",
   "metadata": {},
   "outputs": [
    {
     "data": {
      "image/png": "[encoded data removed]",
      "text/plain": [
       "<Figure size 432x288 with 1 Axes>"
      ]
     },
     "metadata": {
      "needs_background": "light"
     },
     "output_type": "display_data"
    }
   ],
   "source": [
    "import numpy as np\n",
    "import seaborn as sns\n",
    "import matplotlib.pyplot as plt\n",
    "Array_13=np.array([21,34,2,3,43])\n",
    "sns.distplot(Array_13)\n",
    "plt.show()\n",
    "\n"
   ]
  },
  {
   "cell_type": "markdown",
   "id": "f83a1426",
   "metadata": {},
   "source": [
    "## Normal (Gaussian) Distribution :"
   ]
  },
  {
   "cell_type": "markdown",
   "id": "321b631b",
   "metadata": {},
   "source": [
    "### Normal Distribution\n",
    "- The Normal Distribution is one of the most important distributions.\n",
    "\n",
    "- It is also called the Gaussian Distribution after the German mathematician Carl Friedrich Gauss.\n",
    "\n",
    "- It fits the probability distribution of many events, eg. IQ Scores, Heartbeat etc.\n",
    "\n",
    "- Use the random.normal() method to get a Normal Data Distribution.\n",
    "\n",
    "    - It has three parameters:\n",
    "\n",
    "        - loc - (Mean) where the peak of the bell exists.\n",
    "\n",
    "        - scale - (Standard Deviation) how flat the graph distribution should be.\n",
    "\n",
    "        - size - The shape of the returned array."
   ]
  },
  {
   "cell_type": "markdown",
   "id": "41402485",
   "metadata": {},
   "source": [
    "#### Example:\n",
    "- Generate a random normal distribution of size 2x3."
   ]
  },
  {
   "cell_type": "code",
   "execution_count": 6,
   "id": "654c59d3",
   "metadata": {},
   "outputs": [
    {
     "name": "stdout",
     "output_type": "stream",
     "text": [
      "[[ 1.23888376  1.17871967 -0.44073073]\n",
      " [ 0.18281306  2.15188098 -0.04018835]]\n"
     ]
    },
    {
     "data": {
      "image/png": "[encoded data removed]",
      "text/plain": [
       "<Figure size 432x288 with 1 Axes>"
      ]
     },
     "metadata": {
      "needs_background": "light"
     },
     "output_type": "display_data"
    }
   ],
   "source": [
    "import warnings\n",
    "warnings.filterwarnings(\"ignore\")\n",
    "from numpy import random\n",
    "import seaborn as sns\n",
    "import matplotlib.pyplot as plt\n",
    "Array_14=random.normal( size=(2,3))\n",
    "print(Array_14)\n",
    "sns.distplot(Array_14,hist=False)\n",
    "plt.show()"
   ]
  },
  {
   "cell_type": "markdown",
   "id": "21c04deb",
   "metadata": {},
   "source": [
    "#### Example # 02:\n",
    "- Generate a random normal distribution of size 2x3 with mean at 1 and standard deviation of 2."
   ]
  },
  {
   "cell_type": "code",
   "execution_count": 16,
   "id": "4fb7380a",
   "metadata": {},
   "outputs": [
    {
     "data": {
      "image/png": "[encoded data removed]",
      "text/plain": [
       "<Figure size 432x288 with 1 Axes>"
      ]
     },
     "metadata": {
      "needs_background": "light"
     },
     "output_type": "display_data"
    }
   ],
   "source": [
    "from numpy import random\n",
    "import seaborn as sns\n",
    "import matplotlib.pyplot as plt\n",
    "Array_15=random.normal(scale=2,loc=1,size=(2,3))\n",
    "sns.distplot(Array_15)\n",
    "plt.show()"
   ]
  },
  {
   "cell_type": "markdown",
   "id": "77d6e186",
   "metadata": {},
   "source": [
    "### Visualization of Normal Distribution :\n",
    "#### Example :"
   ]
  },
  {
   "cell_type": "code",
   "execution_count": 24,
   "id": "547aad98",
   "metadata": {},
   "outputs": [
    {
     "data": {
      "image/png": "[encoded data removed]",
      "text/plain": [
       "<Figure size 432x288 with 1 Axes>"
      ]
     },
     "metadata": {
      "needs_background": "light"
     },
     "output_type": "display_data"
    }
   ],
   "source": [
    "import matplotlib.pyplot as plt\n",
    "import seaborn as sns\n",
    "sns.distplot(random.normal(size=(1000)))\n",
    "plt.show()"
   ]
  },
  {
   "cell_type": "markdown",
   "id": "19857e25",
   "metadata": {},
   "source": [
    "## Binomial Distribution:\n",
    "- Binomial Distribution is a Discrete Distribution.\n",
    "\n",
    "- It describes the outcome of binary scenarios, e.g. toss of a coin, it will either be head or tails.\n",
    "\n",
    "    - It has three parameters:\n",
    "\n",
    "        - n - number of trials.\n",
    "\n",
    "        - p - probability of occurence of each trial (e.g. for toss of a coin 0.5 each).\n",
    "\n",
    "        - size - The shape of the returned array."
   ]
  },
  {
   "cell_type": "markdown",
   "id": "7f71da48",
   "metadata": {},
   "source": [
    "#### Example:\n",
    "- Given 10 trials for coin toss generate 10 data points:"
   ]
  },
  {
   "cell_type": "code",
   "execution_count": 32,
   "id": "ce16df76",
   "metadata": {},
   "outputs": [
    {
     "name": "stdout",
     "output_type": "stream",
     "text": [
      "[[-0.26049621 -0.08896428 -1.47915199]\n",
      " [-0.381653    1.866355   -3.07276564]]\n"
     ]
    },
    {
     "data": {
      "image/png": "[encoded data removed]",
      "text/plain": [
       "<Figure size 432x288 with 1 Axes>"
      ]
     },
     "metadata": {
      "needs_background": "light"
     },
     "output_type": "display_data"
    }
   ],
   "source": [
    "from numpy import random\n",
    "import seaborn as sns\n",
    "import matplotlib.pyplot as plt\n",
    "Arrsy_15=random.binomial(n=10,p=0.5,size=10)\n",
    "print(Array_15)\n",
    "sns.distplot(Array_15)\n",
    "plt.show()"
   ]
  },
  {
   "cell_type": "code",
   "execution_count": 4,
   "id": "d822bd6f",
   "metadata": {},
   "outputs": [
    {
     "name": "stdout",
     "output_type": "stream",
     "text": [
      "[343 343   1  21 343 256   3  21 343 343]\n"
     ]
    },
    {
     "data": {
      "image/png": "[encoded data removed]",
      "text/plain": [
       "<Figure size 360x360 with 1 Axes>"
      ]
     },
     "metadata": {
      "needs_background": "light"
     },
     "output_type": "display_data"
    }
   ],
   "source": [
    "import numpy as np\n",
    "import seaborn as sns\n",
    "import matplotlib.pyplot as plt\n",
    "from numpy import random\n",
    "Array_16=random.choice([1,3,256,343,21],size=10)\n",
    "sns.displot(Array_16)\n",
    "print(Array_16)\n",
    "plt.show()"
   ]
  },
  {
   "cell_type": "code",
   "execution_count": null,
   "id": "899bd029",
   "metadata": {},
   "outputs": [],
   "source": [
    "import "
   ]
  }
 ],
 "metadata": {
  "kernelspec": {
   "display_name": "Python 3 (ipykernel)",
   "language": "python",
   "name": "python3"
  },
  "language_info": {
   "codemirror_mode": {
    "name": "ipython",
    "version": 3
   },
   "file_extension": ".py",
   "mimetype": "text/x-python",
   "name": "python",
   "nbconvert_exporter": "python",
   "pygments_lexer": "ipython3",
   "version": "3.9.7"
  }
 },
 "nbformat": 4,
 "nbformat_minor": 5
}
