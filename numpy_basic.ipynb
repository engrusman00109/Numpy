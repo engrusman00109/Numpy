{
 "cells": [
  {
   "cell_type": "markdown",
   "id": "1789f8a2",
   "metadata": {},
   "source": [
    "# M.Usman Akram\n",
    "## Numpy"
   ]
  },
  {
   "cell_type": "markdown",
   "id": "46c868e6",
   "metadata": {},
   "source": [
    "-  NumPy is a Python library.\n",
    "\n",
    "-  NumPy is used for working with arrays.\n",
    "\n",
    "-  NumPy is short for \"Numerical Python\".\n",
    "-  Numpy is a base of Data science."
   ]
  },
  {
   "cell_type": "code",
   "execution_count": 1,
   "id": "278f5e2f",
   "metadata": {},
   "outputs": [
    {
     "name": "stdout",
     "output_type": "stream",
     "text": [
      "23\n"
     ]
    }
   ],
   "source": [
    "import numpy as np\n",
    "array_3=np.array(23)\n",
    "print(array_3)"
   ]
  },
  {
   "cell_type": "code",
   "execution_count": 2,
   "id": "037fd9c1",
   "metadata": {},
   "outputs": [
    {
     "name": "stdout",
     "output_type": "stream",
     "text": [
      "15\n"
     ]
    }
   ],
   "source": [
    "import numpy as np\n",
    "a=np.array(15)\n",
    "print(a)"
   ]
  },
  {
   "cell_type": "markdown",
   "id": "accda6c1",
   "metadata": {},
   "source": [
    "#### 1-D Arrays:\n",
    "- An array that has 0-D arrays as its elements is called uni-dimensional or 1-D array.\n",
    "\n",
    "- These are the most common and basic arrays."
   ]
  },
  {
   "cell_type": "markdown",
   "id": "581d697e",
   "metadata": {},
   "source": [
    "#### Example : "
   ]
  },
  {
   "cell_type": "code",
   "execution_count": 3,
   "id": "5cb2858d",
   "metadata": {},
   "outputs": [
    {
     "name": "stdout",
     "output_type": "stream",
     "text": [
      "[1 2 3 4 5]\n"
     ]
    }
   ],
   "source": [
    "import numpy as np\n",
    "array_4=np.array([1,2,3,4,5])\n",
    "print(array_4)"
   ]
  },
  {
   "cell_type": "code",
   "execution_count": 4,
   "id": "8f7a91c5",
   "metadata": {},
   "outputs": [
    {
     "name": "stdout",
     "output_type": "stream",
     "text": [
      "[12 45 67]\n"
     ]
    }
   ],
   "source": [
    "import numpy as np\n",
    "b=np.array([12,45,67])\n",
    "print(b)"
   ]
  },
  {
   "cell_type": "markdown",
   "id": "aac90eac",
   "metadata": {},
   "source": [
    "#### 2- D Array:\n",
    "- An array that has 1-D arrays as its elements is called a 2-D array.\n",
    "\n",
    "- These are often used to represent matrix or 2nd order tensors."
   ]
  },
  {
   "cell_type": "markdown",
   "id": "00bdc40b",
   "metadata": {},
   "source": [
    "#### Example: \n"
   ]
  },
  {
   "cell_type": "code",
   "execution_count": 5,
   "id": "0e138c6c",
   "metadata": {},
   "outputs": [
    {
     "name": "stdout",
     "output_type": "stream",
     "text": [
      "[[1 2 3 4]\n",
      " [4 3 2 1]]\n"
     ]
    }
   ],
   "source": [
    "import numpy as np\n",
    "array_5= np.array(([1,2,3,4],[4,3,2,1]))\n",
    "print(array_5)"
   ]
  },
  {
   "cell_type": "code",
   "execution_count": 6,
   "id": "b44ba68e",
   "metadata": {},
   "outputs": [
    {
     "name": "stdout",
     "output_type": "stream",
     "text": [
      "[[23 56 57]\n",
      " [12 65 90]]\n"
     ]
    }
   ],
   "source": [
    "import numpy as np\n",
    "c= np.array(([23,56,57],[12,65,90]))\n",
    "print(c)"
   ]
  },
  {
   "cell_type": "markdown",
   "id": "871a21af",
   "metadata": {},
   "source": [
    "#### 3 D Array:\n",
    "- An array that has 2-D arrays (matrices) as its elements is called 3-D array.\n",
    "\n",
    "- These are often used to represent a 3rd order tensor."
   ]
  },
  {
   "cell_type": "markdown",
   "id": "cfe2892e",
   "metadata": {},
   "source": [
    "#### Example:"
   ]
  },
  {
   "cell_type": "code",
   "execution_count": 7,
   "id": "1e85f747",
   "metadata": {},
   "outputs": [
    {
     "name": "stdout",
     "output_type": "stream",
     "text": [
      "[[[ 1  2  3]\n",
      "  [ 1  2  3]]\n",
      "\n",
      " [[ 3  4  5]\n",
      "  [ 7 54 32]]]\n"
     ]
    }
   ],
   "source": [
    "import numpy as np\n",
    "array_6=np.array(([[1,2,3],[1,2,3]],[[3,4,5],[7,54,32]]))\n",
    "print(array_6)"
   ]
  },
  {
   "cell_type": "markdown",
   "id": "19a35cb2",
   "metadata": {},
   "source": [
    "#### Number of Dimensions:\n",
    "-  NumPy Arrays provides the ndim attribute that returns an integer that tells us how many dimensions the array have."
   ]
  },
  {
   "cell_type": "markdown",
   "id": "56e51469",
   "metadata": {},
   "source": [
    "#### Example : "
   ]
  },
  {
   "cell_type": "code",
   "execution_count": 8,
   "id": "22f1d6fc",
   "metadata": {},
   "outputs": [
    {
     "name": "stdout",
     "output_type": "stream",
     "text": [
      "3\n"
     ]
    }
   ],
   "source": [
    "import numpy as np\n",
    "\n",
    "a = np.array(42)\n",
    "b = np.array([1, 2, 3, 4, 5])\n",
    "c = np.array([[1, 2, 3], [4, 5, 6]])\n",
    "d = np.array([[[1, 2, 3], [4, 5, 6]], [[1, 2, 3], [4, 5, 6]]])\n",
    "print(d.ndim)\n"
   ]
  },
  {
   "cell_type": "markdown",
   "id": "6800a0d2",
   "metadata": {},
   "source": [
    "#### Higher Dimensional Arrays:\n",
    "- An array can have any number of dimensions.\n",
    "\n",
    "- When the array is created, you can define the number of dimensions by using the ndmin argument."
   ]
  },
  {
   "cell_type": "markdown",
   "id": "3767fbc1",
   "metadata": {},
   "source": [
    "#### Example: "
   ]
  },
  {
   "cell_type": "code",
   "execution_count": 9,
   "id": "e97e364f",
   "metadata": {},
   "outputs": [
    {
     "name": "stdout",
     "output_type": "stream",
     "text": [
      "[[[[[1 2 3]\n",
      "    [1 2 3]]]]]\n",
      "The dimension of Array_7 is :  5\n"
     ]
    }
   ],
   "source": [
    "import numpy as np\n",
    "array_7=np.array([[1,2,3],[1,2,3]],ndmin=5)\n",
    "print(array_7)\n",
    "print(\"The dimension of Array_7 is : \", array_7.ndim)"
   ]
  },
  {
   "cell_type": "markdown",
   "id": "b6c7121a",
   "metadata": {},
   "source": [
    "#### Example # 02:"
   ]
  },
  {
   "cell_type": "code",
   "execution_count": 10,
   "id": "f0336eeb",
   "metadata": {},
   "outputs": [
    {
     "name": "stdout",
     "output_type": "stream",
     "text": [
      "[[[[[[[[1 2 3]\n",
      "       [3 2 1]]]]]]]]\n",
      "Mr.Usman The dimension of Array_8 is : 8\n"
     ]
    }
   ],
   "source": [
    "import numpy as np\n",
    "array_8=np.array([[1,2,3],[3,2,1]],ndmin=8)\n",
    "print(array_8)\n",
    "print(\"Mr.Usman The dimension of Array_8 is :\",array_8.ndim)\n"
   ]
  },
  {
   "cell_type": "markdown",
   "id": "e82a0bfc",
   "metadata": {},
   "source": [
    "### NumPy Array Indexing:\n",
    "- Array indexing is the same as accessing an array element.\n",
    "\n",
    "- You can access an array element by referring to its index number.\n",
    "\n",
    "- The indexes in NumPy arrays start with 0, meaning that the first element has index 0, and the second has index 1 etc."
   ]
  },
  {
   "cell_type": "markdown",
   "id": "69fbad1a",
   "metadata": {},
   "source": [
    "### Access 1-D Arrays:\n",
    "- we can get the elements of 1-D array by using the index number."
   ]
  },
  {
   "cell_type": "markdown",
   "id": "876b4cfb",
   "metadata": {},
   "source": [
    "#### Example:\n",
    "- Creat 1D array and access its third element."
   ]
  },
  {
   "cell_type": "code",
   "execution_count": 11,
   "id": "25d1ec07",
   "metadata": {},
   "outputs": [
    {
     "name": "stdout",
     "output_type": "stream",
     "text": [
      "Mr.Usman The Third element of array is :  3\n"
     ]
    }
   ],
   "source": [
    "\n",
    "import numpy as np\n",
    "array_9=np.array([1,2,3,4,5,6,7,8,9])\n",
    "print(\"Mr.Usman The Third element of array is : \",array_9[2])"
   ]
  },
  {
   "cell_type": "markdown",
   "id": "d719d9fc",
   "metadata": {},
   "source": [
    "#### Example # 02:\n",
    "- Get third and fourth elements from the  array and add them."
   ]
  },
  {
   "cell_type": "code",
   "execution_count": 12,
   "id": "756f5398",
   "metadata": {},
   "outputs": [
    {
     "name": "stdout",
     "output_type": "stream",
     "text": [
      "7\n"
     ]
    }
   ],
   "source": [
    "\n",
    "import numpy as np\n",
    "array_1=np.array([1,2,3,4,5,6,7,8])\n",
    "print(array_1[2]+array_1[3])"
   ]
  },
  {
   "cell_type": "code",
   "execution_count": 13,
   "id": "fb7f5c58",
   "metadata": {},
   "outputs": [
    {
     "name": "stdout",
     "output_type": "stream",
     "text": [
      "97\n"
     ]
    }
   ],
   "source": [
    "import numpy as np\n",
    "z=np.array([12,45,67,97,43])\n",
    "print(z[3])"
   ]
  },
  {
   "cell_type": "markdown",
   "id": "9d43feb0",
   "metadata": {},
   "source": [
    "### Access 2-D Arrays:\n",
    "- To access elements from 2-D arrays we can use comma separated integers representing the dimension and the index of the element.\n",
    "\n",
    "- Think of 2-D arrays like a table with rows and columns, where the row represents the dimension and the index represents the column."
   ]
  },
  {
   "cell_type": "markdown",
   "id": "af6c7956",
   "metadata": {},
   "source": [
    "#### Example:\n",
    "- Access the element on the second row, 1 column."
   ]
  },
  {
   "cell_type": "code",
   "execution_count": 14,
   "id": "6f224c54",
   "metadata": {},
   "outputs": [
    {
     "name": "stdout",
     "output_type": "stream",
     "text": [
      "23\n"
     ]
    }
   ],
   "source": [
    "\n",
    "import numpy as np\n",
    "array_2=np.array(([1,2,3],[23,56,78]))   \n",
    "print(array_2[1,0])"
   ]
  },
  {
   "cell_type": "markdown",
   "id": "e4dee22c",
   "metadata": {},
   "source": [
    "#### Example # 02:  \n",
    "- Access the element on the 2nd row, 5th column."
   ]
  },
  {
   "cell_type": "code",
   "execution_count": 15,
   "id": "a4bf604d",
   "metadata": {},
   "outputs": [
    {
     "name": "stdout",
     "output_type": "stream",
     "text": [
      "5th element on 2nd row:  10\n"
     ]
    }
   ],
   "source": [
    "import numpy as np\n",
    "\n",
    "arr = np.array([[1,2,3,4,5], [6,7,8,9,10]])\n",
    "\n",
    "print('5th element on 2nd row: ', arr[1, 4])"
   ]
  },
  {
   "cell_type": "markdown",
   "id": "36777ab9",
   "metadata": {},
   "source": [
    "### Access 3-D Arrays:\n",
    "- To access elements from 3-D arrays we can use comma separated integers representing the dimensions and the index of the element."
   ]
  },
  {
   "cell_type": "markdown",
   "id": "15ef083e",
   "metadata": {},
   "source": [
    "#### Example:\n",
    " - Access the third element of the second array of the first array."
   ]
  },
  {
   "cell_type": "code",
   "execution_count": 16,
   "id": "3f31017e",
   "metadata": {},
   "outputs": [
    {
     "name": "stdout",
     "output_type": "stream",
     "text": [
      "6\n"
     ]
    }
   ],
   "source": [
    "\n",
    "import numpy as np\n",
    "\n",
    "arr = np.array([[[1, 2, 3], [4, 5, 6]], [[7, 8, 9], [10, 11, 12]]])\n",
    "\n",
    "print(arr[0, 1, 2])"
   ]
  },
  {
   "cell_type": "markdown",
   "id": "83044549",
   "metadata": {},
   "source": [
    "### NumPy Array Slicing:\n",
    "\n",
    "- Slicing in numpy means taking elements from one given index to another given index.\n",
    "\n",
    "- We pass slice instead of index like this:              start : end.\n",
    "\n",
    "- We can also define the step, like this:              start:end:step.\n",
    "\n",
    "- If we don't pass start its considered 0\n",
    "\n",
    "- If we don't pass end its considered length of array in that dimension\n",
    "\n",
    "-  If we don't pass step its considered 1"
   ]
  },
  {
   "cell_type": "markdown",
   "id": "c2847b6d",
   "metadata": {},
   "source": [
    "#### Example: \n",
    "- Slice elements from index 1 to index 5 from the  array."
   ]
  },
  {
   "cell_type": "code",
   "execution_count": 17,
   "id": "c2d6c73f",
   "metadata": {},
   "outputs": [
    {
     "name": "stdout",
     "output_type": "stream",
     "text": [
      "[2 3 4 5]\n"
     ]
    }
   ],
   "source": [
    "\n",
    "import numpy as np\n",
    "\n",
    "arr = np.array([1, 2, 3, 4, 5, 6, 7])\n",
    "\n",
    "print(arr[1:5])"
   ]
  },
  {
   "cell_type": "markdown",
   "id": "fe540ab4",
   "metadata": {},
   "source": [
    "#### Example # 02:\n",
    "- Slice elements from index 4 to the end of the array."
   ]
  },
  {
   "cell_type": "code",
   "execution_count": 18,
   "id": "0f9477fd",
   "metadata": {},
   "outputs": [
    {
     "name": "stdout",
     "output_type": "stream",
     "text": [
      "[1 2 3 4 5 6]\n"
     ]
    }
   ],
   "source": [
    "\n",
    "import numpy as np\n",
    "\n",
    "arr = np.array([1, 2, 3, 4, 5, 6, 7])\n",
    "\n",
    "print(arr[:6])"
   ]
  },
  {
   "cell_type": "markdown",
   "id": "54f31598",
   "metadata": {},
   "source": [
    "### Negative Slicing:\n",
    "- Use the minus operator to refer to an index from the end."
   ]
  },
  {
   "cell_type": "markdown",
   "id": "e49d378b",
   "metadata": {},
   "source": [
    "#### Example:\n",
    "- Slice from the index 3 from the end to index 1 from the end."
   ]
  },
  {
   "cell_type": "code",
   "execution_count": 19,
   "id": "ed8494bf",
   "metadata": {},
   "outputs": [
    {
     "name": "stdout",
     "output_type": "stream",
     "text": [
      "[5 6]\n"
     ]
    }
   ],
   "source": [
    "import numpy as np\n",
    "\n",
    "arr = np.array([1, 2,3,4,5,6,7])\n",
    "\n",
    "print(arr[-3:-1])"
   ]
  },
  {
   "cell_type": "markdown",
   "id": "81fd230e",
   "metadata": {},
   "source": [
    "- Use the step value to determine the step of the slicing."
   ]
  },
  {
   "cell_type": "code",
   "execution_count": 20,
   "id": "8c42cd62",
   "metadata": {},
   "outputs": [
    {
     "name": "stdout",
     "output_type": "stream",
     "text": [
      "[1 3 5]\n"
     ]
    }
   ],
   "source": [
    "import numpy as np\n",
    "\n",
    "arr = np.array([1, 2, 3, 4, 5, 6, 7])\n",
    "\n",
    "print(arr[0:6:2])"
   ]
  },
  {
   "cell_type": "markdown",
   "id": "b3165775",
   "metadata": {},
   "source": [
    "### Slicing 2-D Arrays:"
   ]
  },
  {
   "cell_type": "markdown",
   "id": "48e97cc4",
   "metadata": {},
   "source": [
    "#### Example:\n",
    "- From the second element, slice elements from index 1 to index 4 (not included):"
   ]
  },
  {
   "cell_type": "code",
   "execution_count": 21,
   "id": "076de465",
   "metadata": {},
   "outputs": [
    {
     "name": "stdout",
     "output_type": "stream",
     "text": [
      "[2 3 4]\n"
     ]
    }
   ],
   "source": [
    "import numpy as np\n",
    "\n",
    "arr = np.array([[1, 2, 3, 4, 5], [6, 7, 8, 9, 10]])\n",
    "\n",
    "print(arr[0, 1:4])"
   ]
  },
  {
   "cell_type": "code",
   "execution_count": 22,
   "id": "23a0fd94",
   "metadata": {},
   "outputs": [
    {
     "name": "stdout",
     "output_type": "stream",
     "text": [
      "[7 8 9]\n"
     ]
    }
   ],
   "source": [
    "import numpy as np\n",
    "\n",
    "arr = np.array([[1, 2, 3, 4, 5], [6, 7, 8, 9, 10]])\n",
    "\n",
    "print(arr[1, 1:4])"
   ]
  },
  {
   "cell_type": "markdown",
   "id": "4aa5e84e",
   "metadata": {},
   "source": [
    "### Data Types in Python\n",
    "-  By default Python have these data types:\n",
    "\n",
    "   - strings - used to represent text data, the text is given under quote marks. e.g. \"ABCD\"\n",
    "   - integer - used to represent integer numbers. e.g. -1, -2, -3\n",
    "   - float - used to represent real numbers. e.g. 1.2, 42.42\n",
    "   - boolean - used to represent True or False.\n",
    "   -  complex - used to represent complex numbers. e.g. 1.0 + 2.0j, 1.5 + 2.5j\n"
   ]
  },
  {
   "cell_type": "markdown",
   "id": "bfe1637e",
   "metadata": {},
   "source": [
    "### Data Types in NumPy\n",
    "- NumPy has some extra data types, and refer to data types with one character, like i for integers, u for unsigned integers etc.\n",
    "\n",
    "   - Below is a list of all data types in NumPy and the characters used to represent them.\n",
    "\n",
    "            i - integer\n",
    "            b - boolean\n",
    "            u - unsigned integer\n",
    "            f - float\n",
    "            c - complex float\n",
    "            m - timedelta\n",
    "            M - datetime\n",
    "            O - object\n",
    "            S - string\n",
    "            U - unicode string\n",
    "            V - fixed chunk of memory for other type ( void )\n"
   ]
  },
  {
   "cell_type": "markdown",
   "id": "964c4d79",
   "metadata": {},
   "source": [
    "#### Checking the Data Type of an Array:\n",
    "- The NumPy array object has a property called \"dtype\"that returns the data type of the array.\n"
   ]
  },
  {
   "cell_type": "markdown",
   "id": "a364c6aa",
   "metadata": {},
   "source": [
    "#### Example:\n",
    "- Get the data type of an array object.\n"
   ]
  },
  {
   "cell_type": "code",
   "execution_count": 23,
   "id": "04e6cd35",
   "metadata": {},
   "outputs": [
    {
     "name": "stdout",
     "output_type": "stream",
     "text": [
      "int32\n"
     ]
    }
   ],
   "source": [
    "import numpy as np\n",
    "\n",
    "arr = np.array([1, 2, 3, 4])\n",
    "\n",
    "print(arr.dtype)"
   ]
  },
  {
   "cell_type": "markdown",
   "id": "598fcd31",
   "metadata": {},
   "source": [
    " ####  Example\n",
    "- Get the data type of an array containing strings."
   ]
  },
  {
   "cell_type": "code",
   "execution_count": 24,
   "id": "b2ebb049",
   "metadata": {},
   "outputs": [
    {
     "name": "stdout",
     "output_type": "stream",
     "text": [
      "<U6\n"
     ]
    }
   ],
   "source": [
    "import numpy as np\n",
    "\n",
    "arr = np.array(['apple', 'banana', 'cherry'])\n",
    "\n",
    "print(arr.dtype)"
   ]
  },
  {
   "cell_type": "markdown",
   "id": "aeba3e45",
   "metadata": {},
   "source": [
    "### Converting Data Type on Existing Arrays\n",
    "- The best way to change the data type of an existing array, is to make a copy of the array with the astype() method.\n",
    "\n",
    "- The astype() function creates a copy of the array, and allows you to specify the data type as a parameter.\n",
    "\n",
    "- The data type can be specified using a string, like 'f' for float, 'i' for integer etc. or you can use the data type directly     like float for float and int for integer."
   ]
  },
  {
   "cell_type": "markdown",
   "id": "a7082355",
   "metadata": {},
   "source": [
    "#### Example:\n",
    "- Change data type from float to integer by using 'i' as parameter value."
   ]
  },
  {
   "cell_type": "code",
   "execution_count": 1,
   "id": "197eed2e",
   "metadata": {},
   "outputs": [
    {
     "name": "stdout",
     "output_type": "stream",
     "text": [
      "[1 2 3]\n",
      "int32\n"
     ]
    }
   ],
   "source": [
    "import numpy as np\n",
    "\n",
    "arr = np.array([1.1, 2.1, 3.1])\n",
    "\n",
    "newarr = arr.astype('i')\n",
    "\n",
    "print(newarr)\n",
    "print(newarr.dtype)"
   ]
  },
  {
   "cell_type": "code",
   "execution_count": 3,
   "id": "6c8fa7c2",
   "metadata": {},
   "outputs": [
    {
     "name": "stdout",
     "output_type": "stream",
     "text": [
      "[ 1.2 45.6 23.6]\n",
      "float64\n",
      "[ 1 45 23]\n",
      "int32\n"
     ]
    }
   ],
   "source": [
    "import numpy as np\n",
    "a=np.array([1.2,45.6,23.6])\n",
    "b=a.astype(\"i\")\n",
    "print(a)\n",
    "print(a.dtype)\n",
    "print(b)\n",
    "print(b.dtype)"
   ]
  },
  {
   "cell_type": "code",
   "execution_count": 68,
   "id": "2db34233",
   "metadata": {},
   "outputs": [
    {
     "name": "stdout",
     "output_type": "stream",
     "text": [
      "[12  3 78]\n",
      "int32\n",
      "float64\n"
     ]
    }
   ],
   "source": [
    "import numpy as np \n",
    "a=np.array([12.3,3.9,78.9])\n",
    "b=a.astype('i')\n",
    "print(b)\n",
    "print(b.dtype)\n",
    "print(a.dtype)"
   ]
  },
  {
   "cell_type": "markdown",
   "id": "047e175c",
   "metadata": {},
   "source": [
    "#### Example # 02:\n",
    "- Change data type from float to integer by using int as parameter value:"
   ]
  },
  {
   "cell_type": "code",
   "execution_count": 4,
   "id": "8e923a02",
   "metadata": {},
   "outputs": [
    {
     "name": "stdout",
     "output_type": "stream",
     "text": [
      "[1 2 3]\n",
      "Mr.Usman Data type is : int32\n"
     ]
    }
   ],
   "source": [
    "import numpy as np\n",
    "\n",
    "arr = np.array([1.1, 2.1, 3.1])\n",
    "\n",
    "newarr = arr.astype(int)\n",
    "\n",
    "print(newarr)\n",
    "print(\"Mr.Usman Data type is :\",newarr.dtype)"
   ]
  },
  {
   "cell_type": "code",
   "execution_count": 5,
   "id": "1ec8fdbc",
   "metadata": {},
   "outputs": [
    {
     "name": "stdout",
     "output_type": "stream",
     "text": [
      "[1 2 3]\n",
      "Mr.Usman Data type is : int32\n"
     ]
    }
   ],
   "source": [
    "import numpy as np\n",
    "\n",
    "arr = np.array([1.1, 2.1, 3.1])\n",
    "\n",
    "newarr = arr.astype(\"i\")\n",
    "\n",
    "print(newarr)\n",
    "print(\"Mr.Usman Data type is :\",newarr.dtype)"
   ]
  },
  {
   "cell_type": "markdown",
   "id": "b895acc0",
   "metadata": {},
   "source": [
    "#### Example # 03:\n",
    "- Change data type from integer to boolean:\n"
   ]
  },
  {
   "cell_type": "code",
   "execution_count": 27,
   "id": "fa643957",
   "metadata": {},
   "outputs": [
    {
     "name": "stdout",
     "output_type": "stream",
     "text": [
      "[ True False  True]\n",
      "Mr.Usman Data type is : bool\n"
     ]
    }
   ],
   "source": [
    "import numpy as np\n",
    "\n",
    "arr = np.array([1, 0, 3])\n",
    "\n",
    "newarr = arr.astype(bool)\n",
    "\n",
    "print(newarr)\n",
    "print(\"Mr.Usman Data type is :\",newarr.dtype)"
   ]
  },
  {
   "cell_type": "markdown",
   "id": "514750cd",
   "metadata": {},
   "source": [
    "#### Example # 04:\n",
    "- change data tye from float to integer."
   ]
  },
  {
   "cell_type": "code",
   "execution_count": 28,
   "id": "3eba5b37",
   "metadata": {},
   "outputs": [
    {
     "name": "stdout",
     "output_type": "stream",
     "text": [
      "float64\n",
      "int32\n"
     ]
    }
   ],
   "source": [
    "import numpy as np\n",
    "array_4=np.array([1.2,3.4])\n",
    "array_5=array_4.astype(int)\n",
    "print(array_4.dtype)\n",
    "print(array_5.dtype)"
   ]
  },
  {
   "cell_type": "markdown",
   "id": "0c1708d3",
   "metadata": {},
   "source": [
    "### NumPy Array Copy vs View:\n",
    "- The main difference between a copy and a view of an array is that the copy is a new array, and the view is just a view of the original array.\n",
    "\n",
    "- The copy owns the data and any changes made to the copy will not affect original array, and any changes made to the original array will not affect the copy.\n",
    "\n",
    "- The view does not own the data and any changes made to the view will affect the original array, and any changes made to the original array will affect the view.\n",
    "- The copy SHOULD NOT be affected by the changes made to the original array.\n"
   ]
  },
  {
   "cell_type": "markdown",
   "id": "20ef652e",
   "metadata": {},
   "source": [
    "#### COPY:"
   ]
  },
  {
   "cell_type": "markdown",
   "id": "9dc7f6a1",
   "metadata": {},
   "source": [
    "#### Example:\n",
    "- Make a copy, change the original array, and display both arrays:"
   ]
  },
  {
   "cell_type": "code",
   "execution_count": 3,
   "id": "0aa0babf",
   "metadata": {},
   "outputs": [
    {
     "name": "stdout",
     "output_type": "stream",
     "text": [
      "[1 2 3 4 5]\n",
      "[4 2 3 4 5]\n"
     ]
    }
   ],
   "source": [
    "import numpy as np\n",
    "array_6=np.array([1,2,3,4,5])\n",
    "array_7=array_6.copy()\n",
    "print(array_6)\n",
    "array_7[0:1]=4\n",
    "print(array_7)\n"
   ]
  },
  {
   "cell_type": "markdown",
   "id": "fd69b2a1",
   "metadata": {},
   "source": [
    "#### VIEW: "
   ]
  },
  {
   "cell_type": "markdown",
   "id": "5bf7438d",
   "metadata": {},
   "source": [
    "#### Example:\n",
    "- Make a view, change the original array, and display both arrays:"
   ]
  },
  {
   "cell_type": "code",
   "execution_count": 30,
   "id": "3eb2fee8",
   "metadata": {},
   "outputs": [
    {
     "name": "stdout",
     "output_type": "stream",
     "text": [
      "[42  2  3  4  5]\n",
      "[42  2  3  4  5]\n"
     ]
    }
   ],
   "source": [
    "import numpy as np\n",
    "\n",
    "arr = np.array([1, 2, 3, 4, 5])\n",
    "x = arr.view()\n",
    "arr[0] = 42\n",
    "\n",
    "print(arr)\n",
    "print(x)"
   ]
  },
  {
   "cell_type": "markdown",
   "id": "5d3e5a15",
   "metadata": {},
   "source": [
    "### Check if Array Owns its Data:\n",
    "- As mentioned above, copies owns the data, and views does not own the data, but how can we check this?\n",
    "\n",
    "- Every NumPy array has the attribute base that returns None if the array owns the data.\n",
    "\n",
    "- Otherwise, the base  attribute refers to the original object."
   ]
  },
  {
   "cell_type": "markdown",
   "id": "caa048c4",
   "metadata": {},
   "source": [
    "#### Example:\n",
    "              -Print the value of the base attribute to check if an array owns it's data or not."
   ]
  },
  {
   "cell_type": "code",
   "execution_count": 31,
   "id": "d54e6d12",
   "metadata": {},
   "outputs": [
    {
     "name": "stdout",
     "output_type": "stream",
     "text": [
      "None\n",
      "[12 34 56 76  3]\n"
     ]
    }
   ],
   "source": [
    "import numpy as np\n",
    "array_8=np.array([12,34,56,76,3])\n",
    "a=array_8.copy()\n",
    "b=array_8.view()\n",
    "print(a.base)\n",
    "print(b.base)\n"
   ]
  },
  {
   "cell_type": "markdown",
   "id": "5f586e3d",
   "metadata": {},
   "source": [
    "#### Example # 02:\n",
    "- The copy returns None.\n",
    "- The view returns the original array.\n"
   ]
  },
  {
   "cell_type": "code",
   "execution_count": 32,
   "id": "fa3fbf6a",
   "metadata": {},
   "outputs": [
    {
     "name": "stdout",
     "output_type": "stream",
     "text": [
      "None\n",
      "[21 45 43 23]\n"
     ]
    }
   ],
   "source": [
    "import numpy as np\n",
    "array_1=np.array([21,45,43,23])\n",
    "x=array_1.copy()\n",
    "y=array_1.view()\n",
    "print(x.base)\n",
    "print(y.base)"
   ]
  },
  {
   "cell_type": "markdown",
   "id": "74ea9df3",
   "metadata": {},
   "source": [
    "### NumPy Array Shape:\n",
    "- The shape of an array is the number of elements in each dimension."
   ]
  },
  {
   "cell_type": "markdown",
   "id": "3ed64a8a",
   "metadata": {},
   "source": [
    "### Get the Shape of an Array:\n",
    "- NumPy arrays have an attribute called shape that returns a tuple with each index having the number of corresponding elements."
   ]
  },
  {
   "cell_type": "markdown",
   "id": "3dc5a4ee",
   "metadata": {},
   "source": [
    "### Example :\n",
    "- Print the shape of a 2-D array."
   ]
  },
  {
   "cell_type": "code",
   "execution_count": 33,
   "id": "f63439d7",
   "metadata": {},
   "outputs": [
    {
     "name": "stdout",
     "output_type": "stream",
     "text": [
      "(2, 4)\n"
     ]
    }
   ],
   "source": [
    "import numpy as np\n",
    "\n",
    "arr = np.array([[1, 2, 3, 4], [5, 6, 7, 8]])\n",
    "\n",
    "print(arr.shape)\n"
   ]
  },
  {
   "cell_type": "markdown",
   "id": "adb44c19",
   "metadata": {},
   "source": [
    "#### Example # 02:\n",
    "- Create an array with 5 dimensions using ndmin using a vector with values 1,2,3,4 and verify that last dimension has value 4."
   ]
  },
  {
   "cell_type": "code",
   "execution_count": 34,
   "id": "0fcf25cb",
   "metadata": {},
   "outputs": [
    {
     "name": "stdout",
     "output_type": "stream",
     "text": [
      "[[[[[1 2 3 4]]]]]\n",
      "shape of array : (1, 1, 1, 1, 4)\n"
     ]
    }
   ],
   "source": [
    "import numpy as np\n",
    "\n",
    "arr = np.array([1, 2, 3, 4], ndmin=5)\n",
    "\n",
    "print(arr)\n",
    "print('shape of array :', arr.shape)"
   ]
  },
  {
   "cell_type": "markdown",
   "id": "6b745765",
   "metadata": {},
   "source": [
    "### NumPy Array Reshaping : \n",
    "- Reshaping means changing the shape of an array.\n",
    "\n",
    "- The shape of an array is the number of elements in each dimension.\n",
    "\n",
    "- By reshaping we can add or remove dimensions or change number of elements in each dimension."
   ]
  },
  {
   "cell_type": "markdown",
   "id": "99802247",
   "metadata": {},
   "source": [
    "### Reshape From 1-D to 2-D:\n",
    " #### Example :\n",
    "- Convert the  1-D array with 12 elements into a 2-D array.\n",
    "\n",
    "- The outermost dimension will have 4 arrays, each with 3 elements."
   ]
  },
  {
   "cell_type": "code",
   "execution_count": 35,
   "id": "fbea9686",
   "metadata": {},
   "outputs": [
    {
     "name": "stdout",
     "output_type": "stream",
     "text": [
      "[ 1  2  3  4  5  6  7  8  9 10 11 12]\n",
      "[[ 1  2  3]\n",
      " [ 4  5  6]\n",
      " [ 7  8  9]\n",
      " [10 11 12]]\n"
     ]
    }
   ],
   "source": [
    "import numpy as np\n",
    "array_1=np.array([1,2,3,4,5,6,7,8,9,10,11,12])\n",
    "array_2=array_1.reshape(4,3)\n",
    "print(array_1)\n",
    "print(array_2)"
   ]
  },
  {
   "cell_type": "markdown",
   "id": "3794af8c",
   "metadata": {},
   "source": [
    "### Reshape From 1-D to 3-D:"
   ]
  },
  {
   "cell_type": "markdown",
   "id": "e60735cb",
   "metadata": {},
   "source": [
    "#### Example:"
   ]
  },
  {
   "cell_type": "code",
   "execution_count": 36,
   "id": "31fb2a11",
   "metadata": {},
   "outputs": [
    {
     "name": "stdout",
     "output_type": "stream",
     "text": [
      "[ 1  2  3  4  5  6  7  8  9 10 11 12]\n",
      "[[[ 1  2  3]\n",
      "  [ 4  5  6]]\n",
      "\n",
      " [[ 7  8  9]\n",
      "  [10 11 12]]]\n"
     ]
    }
   ],
   "source": [
    "import numpy as np\n",
    "array_1=np.array([1,2,3,4,5,6,7,8,9,10,11,12])\n",
    "array_2=array_1.reshape(2,2,3)\n",
    "print(array_1)\n",
    "print(array_2)"
   ]
  },
  {
   "cell_type": "markdown",
   "id": "450059f8",
   "metadata": {},
   "source": [
    "### Unknown Dimension:\n",
    "- You are allowed to have one \"unknown\" dimension.\n",
    "\n",
    "- Meaning that you do not have to specify an exact number for one of the dimensions in the reshape method.\n",
    "\n",
    "- Pass -1 as the value, and NumPy will calculate this number for you.\n",
    "- We can not pass -1 to more than one dimension."
   ]
  },
  {
   "cell_type": "markdown",
   "id": "c67b048a",
   "metadata": {},
   "source": [
    "#### Example:\n",
    "- Convert 1D array with 8 elements to 3D array with 2x2 elements."
   ]
  },
  {
   "cell_type": "code",
   "execution_count": 37,
   "id": "0474536a",
   "metadata": {},
   "outputs": [
    {
     "name": "stdout",
     "output_type": "stream",
     "text": [
      "[[[ 1  2]\n",
      "  [ 3  4]]\n",
      "\n",
      " [[ 5  6]\n",
      "  [ 7 12]]]\n"
     ]
    }
   ],
   "source": [
    "import numpy as np\n",
    "\n",
    "arr = np.array([1, 2, 3, 4, 5, 6, 7,12])\n",
    "newarr = arr.reshape(2, 2,-1)\n",
    "print(newarr)\n",
    "\n"
   ]
  },
  {
   "cell_type": "markdown",
   "id": "39d3cefb",
   "metadata": {},
   "source": [
    "### Flattening the arrays:\n",
    "- Flattening array means converting a multidimensional array into a 1D array.\n",
    "\n",
    "- We can use reshape  (-1)  to do this."
   ]
  },
  {
   "cell_type": "markdown",
   "id": "2766f360",
   "metadata": {},
   "source": [
    "#### Example:\n",
    "- Convert the array into a 1D array."
   ]
  },
  {
   "cell_type": "code",
   "execution_count": 38,
   "id": "0cff0d80",
   "metadata": {},
   "outputs": [
    {
     "name": "stdout",
     "output_type": "stream",
     "text": [
      "[1 2 3 4 5 6]\n"
     ]
    }
   ],
   "source": [
    "import numpy as np\n",
    "\n",
    "arr = np.array([[1, 2, 3], [4, 5, 6]])\n",
    "\n",
    "newarr = arr.reshape(-1)\n",
    "\n",
    "print(newarr)"
   ]
  },
  {
   "cell_type": "markdown",
   "id": "7b718fed",
   "metadata": {},
   "source": [
    "### NumPy Array Iterating :\n",
    "- Iterating means going through elements one by one.\n",
    "\n",
    "- As we deal with multi-dimensional arrays in numpy, we can do this using basic for loop of python.\n",
    "\n",
    "- If we iterate on a 1-D array it will go through each element one by one."
   ]
  },
  {
   "cell_type": "markdown",
   "id": "5f621e0e",
   "metadata": {},
   "source": [
    "#### Example:\n",
    "- Iterate on the elements of the following 1-D array."
   ]
  },
  {
   "cell_type": "code",
   "execution_count": 39,
   "id": "861afdd6",
   "metadata": {},
   "outputs": [
    {
     "name": "stdout",
     "output_type": "stream",
     "text": [
      "1\n",
      "2\n",
      "3\n",
      "4\n",
      "5\n"
     ]
    }
   ],
   "source": [
    "import numpy as np\n",
    "\n",
    "arr = np.array([1, 2, 3,4,5])\n",
    "\n",
    "for x in arr:\n",
    "  print(x)"
   ]
  },
  {
   "cell_type": "markdown",
   "id": "3e0088be",
   "metadata": {},
   "source": [
    "### Iterating 2-D Arrays:\n",
    "- In a 2-D array it will go through all the rows."
   ]
  },
  {
   "cell_type": "markdown",
   "id": "17869c44",
   "metadata": {},
   "source": [
    "#### Example:\n",
    "- Iterate on the elements of the following 2-D array."
   ]
  },
  {
   "cell_type": "code",
   "execution_count": 40,
   "id": "53840762",
   "metadata": {},
   "outputs": [
    {
     "name": "stdout",
     "output_type": "stream",
     "text": [
      "[1 2 3]\n",
      "[4 5 6]\n"
     ]
    }
   ],
   "source": [
    "import numpy as np\n",
    "\n",
    "arr = np.array([[1, 2, 3], [4, 5, 6]])\n",
    "\n",
    "for x in arr:\n",
    "  print(x)"
   ]
  },
  {
   "cell_type": "markdown",
   "id": "176e4512",
   "metadata": {},
   "source": [
    "#### Example # 02:\n",
    "- Iterate on each scalar element of the 2-D array."
   ]
  },
  {
   "cell_type": "code",
   "execution_count": 41,
   "id": "902d2701",
   "metadata": {},
   "outputs": [
    {
     "name": "stdout",
     "output_type": "stream",
     "text": [
      "1\n",
      "2\n",
      "3\n",
      "4\n",
      "5\n",
      "6\n",
      "7\n",
      "8\n",
      "9\n",
      "10\n"
     ]
    }
   ],
   "source": [
    "import numpy as np\n",
    "array_1=np.array([[1,2,3,4,5],[6,7,8,9,10]])\n",
    "for x in array_1:\n",
    "    for y in x:\n",
    "        print(y)\n",
    "  \n",
    "    "
   ]
  },
  {
   "cell_type": "code",
   "execution_count": null,
   "id": "d6c12d4b",
   "metadata": {},
   "outputs": [],
   "source": []
  },
  {
   "cell_type": "code",
   "execution_count": 42,
   "id": "d8166462",
   "metadata": {},
   "outputs": [
    {
     "name": "stdout",
     "output_type": "stream",
     "text": [
      "1\n",
      "2\n",
      "3\n",
      "4\n",
      "5\n",
      "6\n",
      "12\n",
      "34\n",
      "56\n",
      "344\n",
      "7\n",
      "1\n"
     ]
    }
   ],
   "source": [
    "import numpy as np\n",
    "array_1=np.array([[[1,2,3],[4,5,6]],[[12,34,56],[344,7,1]]])\n",
    "for x in np.nditer(array_1):\n",
    "    print(x)"
   ]
  },
  {
   "cell_type": "markdown",
   "id": "98f940e3",
   "metadata": {},
   "source": [
    "### Iterating With Different Step Size:\n"
   ]
  },
  {
   "cell_type": "markdown",
   "id": "274432a1",
   "metadata": {},
   "source": [
    "#### Example :\n",
    "- Iterate through every scalar element of the 2D array skipping 1 element."
   ]
  },
  {
   "cell_type": "code",
   "execution_count": 43,
   "id": "335d38ea",
   "metadata": {},
   "outputs": [
    {
     "name": "stdout",
     "output_type": "stream",
     "text": [
      "1\n",
      "3\n",
      "5\n",
      "6\n",
      "8\n",
      "10\n"
     ]
    }
   ],
   "source": [
    "import numpy as np\n",
    "array_4=np.array([[1,2,3,4,5],[6,7,8,9,10]])\n",
    "for x in np.nditer(array_4[ : , ::2]):\n",
    "    print(x)"
   ]
  },
  {
   "cell_type": "markdown",
   "id": "a62ef62f",
   "metadata": {},
   "source": [
    "### Enumerated Iteration Using ndenumerate():\n",
    "- Enumeration means mentioning sequence number of somethings one by one.\n",
    "\n",
    "- Sometimes we require corresponding index of the element while iterating, the ndenumerate() method can be used for those usecases."
   ]
  },
  {
   "cell_type": "markdown",
   "id": "5313b9e8",
   "metadata": {},
   "source": [
    "### 1D Array:"
   ]
  },
  {
   "cell_type": "code",
   "execution_count": 44,
   "id": "b194e198",
   "metadata": {},
   "outputs": [
    {
     "name": "stdout",
     "output_type": "stream",
     "text": [
      "(0,) 1\n",
      "(1,) 2\n",
      "(2,) 3\n",
      "(3,) 4\n",
      "(4,) 5\n"
     ]
    }
   ],
   "source": [
    "import numpy as np\n",
    "arr =np.array([1,2,3,4,5])\n",
    "for x,y in np.ndenumerate(arr):\n",
    "    print(x,y)"
   ]
  },
  {
   "cell_type": "markdown",
   "id": "dbb8f249",
   "metadata": {},
   "source": [
    "### 2D Array:"
   ]
  },
  {
   "cell_type": "code",
   "execution_count": 45,
   "id": "9cf85132",
   "metadata": {},
   "outputs": [
    {
     "name": "stdout",
     "output_type": "stream",
     "text": [
      "[[1 2 3]\n",
      " [4 5 6]]\n",
      "(0, 0) 1\n",
      "(0, 1) 2\n",
      "(0, 2) 3\n",
      "(1, 0) 4\n",
      "(1, 1) 5\n",
      "(1, 2) 6\n"
     ]
    }
   ],
   "source": [
    "import numpy as np\n",
    "array_5=np.array([[1,2,3],[4,5,6]])\n",
    "print(array_5)\n",
    "for y,x in np.ndenumerate(array_5):\n",
    " print(y,x)"
   ]
  },
  {
   "cell_type": "markdown",
   "id": "deb219a1",
   "metadata": {},
   "source": [
    "##  NumPy Joining Array:"
   ]
  },
  {
   "cell_type": "markdown",
   "id": "fc072f44",
   "metadata": {},
   "source": [
    "### Joining NumPy Arrays:\n",
    "- Joining means putting contents of two or more arrays in a single array.\n",
    "- We pass a sequence of arrays that we want to join to the concatenate() function, along with the axis. If axis is not explicitly passed, it is taken as 0."
   ]
  },
  {
   "cell_type": "markdown",
   "id": "cd0dff85",
   "metadata": {},
   "source": [
    "#### Example :\n",
    "- 1 D Array\n"
   ]
  },
  {
   "cell_type": "code",
   "execution_count": 46,
   "id": "8e9ed5d3",
   "metadata": {},
   "outputs": [
    {
     "name": "stdout",
     "output_type": "stream",
     "text": [
      "[12 45 32 21 23  1  2  3  4  5]\n"
     ]
    }
   ],
   "source": [
    "import numpy as np\n",
    "array_1=np.array([12,45,32,21,23])\n",
    "array_2=np.array([1,2,3,4,5])\n",
    "array_3=np.concatenate ((array_1,array_2))\n",
    "print(array_3)"
   ]
  },
  {
   "cell_type": "markdown",
   "id": "90c2acf8",
   "metadata": {},
   "source": [
    "#### Example # 02 :\n",
    "- 2 D Array\n"
   ]
  },
  {
   "cell_type": "code",
   "execution_count": 47,
   "id": "76337a64",
   "metadata": {},
   "outputs": [
    {
     "name": "stdout",
     "output_type": "stream",
     "text": [
      "[[1 2 3 4]\n",
      " [5 6 7 8]\n",
      " [2 3 4 5]\n",
      " [5 6 7 8]]\n"
     ]
    }
   ],
   "source": [
    "import numpy as np\n",
    "array_5=np.array([[1,2,3,4],[5,6,7,8]])\n",
    "array_6=np.array([[2,3,4,5],[5,6,7,8]])\n",
    "array_3=np.concatenate((array_5,array_6))\n",
    "print(array_3)"
   ]
  },
  {
   "cell_type": "markdown",
   "id": "b8986a85",
   "metadata": {},
   "source": [
    "#### Example # 03:\n",
    "-  if we pass axis = 1 when arrays will join row wise."
   ]
  },
  {
   "cell_type": "code",
   "execution_count": 48,
   "id": "15c65d5c",
   "metadata": {},
   "outputs": [
    {
     "name": "stdout",
     "output_type": "stream",
     "text": [
      "[[1 2 3 4 1 2 3 4]\n",
      " [5 6 7 8 5 6 7 8]]\n"
     ]
    }
   ],
   "source": [
    "import numpy as np\n",
    "array_1=np.array([[1,2,3,4],[5,6,7,8]])\n",
    "array_2=np.array([[1,2,3,4],[5,6,7,8]])\n",
    "array_3=np.concatenate((array_1,array_2),axis=1)\n",
    "print(array_3)"
   ]
  },
  {
   "cell_type": "markdown",
   "id": "1d67058a",
   "metadata": {},
   "source": [
    "### Splitting NumPy Arrays\n",
    "- Splitting is reverse operation of Joining.\n",
    "\n",
    "- Joining merges multiple arrays into one and Splitting breaks one array into multiple.\n",
    "\n",
    "- We use array_split() for splitting arrays, we pass it the array we want to split and the number of splits."
   ]
  },
  {
   "cell_type": "markdown",
   "id": "155e0fac",
   "metadata": {},
   "source": [
    "### Example:\n",
    "- Split the array in 3 parts:"
   ]
  },
  {
   "cell_type": "code",
   "execution_count": 49,
   "id": "77bdeeec",
   "metadata": {},
   "outputs": [
    {
     "name": "stdout",
     "output_type": "stream",
     "text": [
      "[array([1, 2, 3]), array([4, 5]), array([6, 7]), array([8, 9])]\n"
     ]
    }
   ],
   "source": [
    "import numpy as np\n",
    "array_1=np.array([1,2,3,4,5,6,7,8,9])\n",
    "newarray=np.array_split(array_1,4)\n",
    "print(newarray)"
   ]
  },
  {
   "cell_type": "markdown",
   "id": "1b86b270",
   "metadata": {},
   "source": [
    "### Split Into Arrays:\n",
    "- The return value of the array_split() method is an array containing each of the split as an array.\n",
    "\n",
    "- If you split an array into 3 arrays, you can access them from the result just like any array element."
   ]
  },
  {
   "cell_type": "markdown",
   "id": "29711043",
   "metadata": {},
   "source": [
    "#### Example:"
   ]
  },
  {
   "cell_type": "code",
   "execution_count": 50,
   "id": "c9d5c248",
   "metadata": {},
   "outputs": [
    {
     "name": "stdout",
     "output_type": "stream",
     "text": [
      "[1 2 3]\n",
      "[4 5 6]\n",
      "[7 8 9]\n"
     ]
    }
   ],
   "source": [
    "import numpy as np\n",
    "array_5=np.array([1,2,3,4,5,6,7,8,9])\n",
    "array_6=np.array_split(array_5,3)\n",
    "print(array_6[0])\n",
    "print(array_6[1])\n",
    "print(array_6[2])"
   ]
  },
  {
   "cell_type": "markdown",
   "id": "00b3b5b0",
   "metadata": {},
   "source": [
    "### Split 2D Array:"
   ]
  },
  {
   "cell_type": "markdown",
   "id": "0dcf6ae4",
   "metadata": {},
   "source": [
    "#### Example :"
   ]
  },
  {
   "cell_type": "code",
   "execution_count": 51,
   "id": "bbe782cd",
   "metadata": {},
   "outputs": [
    {
     "name": "stdout",
     "output_type": "stream",
     "text": [
      "[array([[1, 2, 3, 4, 5, 6]]), array([[ 7,  8,  9, 10, 11, 12]]), array([[13, 14, 15, 16, 17, 18]])]\n"
     ]
    }
   ],
   "source": [
    "import numpy as np\n",
    "array_7=np.array([[1,2,3,4,5,6],[7,8,9,10,11,12],[13,14,15,16,17,18]])\n",
    "array_8=np.array_split(array_7,3)\n",
    "print(array_8)"
   ]
  },
  {
   "cell_type": "markdown",
   "id": "fd68ca66",
   "metadata": {},
   "source": [
    "#### Example # 02:"
   ]
  },
  {
   "cell_type": "code",
   "execution_count": 52,
   "id": "dceb7c8a",
   "metadata": {},
   "outputs": [
    {
     "name": "stdout",
     "output_type": "stream",
     "text": [
      "[[1 2 3 4 5 6]]\n",
      "[[ 7  8  9 10 11 12]]\n",
      "[[13 14 15 16 17 18]]\n"
     ]
    }
   ],
   "source": [
    "import numpy as np\n",
    "array_7=np.array([[1,2,3,4,5,6],[7,8,9,10,11,12],[13,14,15,16,17,18]])\n",
    "array_8=np.array_split(array_7,3)\n",
    "print(array_8[0])\n",
    "print(array_8[1])\n",
    "print(array_8[2])\n"
   ]
  },
  {
   "cell_type": "markdown",
   "id": "ae8f1a89",
   "metadata": {},
   "source": [
    "### Example # 03 :\n",
    "- Split the 2-D array into three 2-D arrays along rows."
   ]
  },
  {
   "cell_type": "code",
   "execution_count": 53,
   "id": "16147714",
   "metadata": {},
   "outputs": [
    {
     "name": "stdout",
     "output_type": "stream",
     "text": [
      "[array([[ 1],\n",
      "       [ 4],\n",
      "       [ 7],\n",
      "       [10],\n",
      "       [13],\n",
      "       [16]]), array([[ 2],\n",
      "       [ 5],\n",
      "       [ 8],\n",
      "       [11],\n",
      "       [14],\n",
      "       [17]]), array([[ 3],\n",
      "       [ 6],\n",
      "       [ 9],\n",
      "       [12],\n",
      "       [15],\n",
      "       [18]])]\n"
     ]
    }
   ],
   "source": [
    "import numpy as np\n",
    "\n",
    "arr = np.array([[1, 2, 3], [4, 5, 6], [7, 8, 9], [10, 11, 12], [13, 14, 15], [16, 17, 18]])\n",
    "\n",
    "newarr = np.array_split(arr,3,axis=1)\n",
    "\n",
    "print(newarr)"
   ]
  },
  {
   "cell_type": "markdown",
   "id": "bc63edb6",
   "metadata": {},
   "source": [
    "- An alternate solution is using hsplit() opposite of hstack()"
   ]
  },
  {
   "cell_type": "markdown",
   "id": "589ee9fc",
   "metadata": {},
   "source": [
    "#### Example # 04 :"
   ]
  },
  {
   "cell_type": "code",
   "execution_count": 54,
   "id": "6059df7e",
   "metadata": {},
   "outputs": [
    {
     "name": "stdout",
     "output_type": "stream",
     "text": [
      "[array([[ 1],\n",
      "       [ 4],\n",
      "       [ 7],\n",
      "       [10],\n",
      "       [13],\n",
      "       [16]]), array([[ 2],\n",
      "       [ 5],\n",
      "       [ 8],\n",
      "       [11],\n",
      "       [14],\n",
      "       [17]]), array([[ 3],\n",
      "       [ 6],\n",
      "       [ 9],\n",
      "       [12],\n",
      "       [15],\n",
      "       [18]])]\n"
     ]
    }
   ],
   "source": [
    "import numpy as np\n",
    "\n",
    "arr = np.array([[1, 2, 3], [4, 5, 6], [7, 8, 9], [10, 11, 12], [13, 14, 15], [16, 17, 18]])\n",
    "\n",
    "newarr = np.hsplit(arr, 3)\n",
    "\n",
    "print(newarr)"
   ]
  },
  {
   "cell_type": "markdown",
   "id": "f3906c6e",
   "metadata": {},
   "source": [
    "## NumPy Searching Arrays:"
   ]
  },
  {
   "cell_type": "markdown",
   "id": "d4bca733",
   "metadata": {},
   "source": [
    "### Searching Arrays:\n",
    "- You can search an array for a certain value, and return the indexes that get a match.\n",
    "\n",
    "- To search an array, use the where() method.\n"
   ]
  },
  {
   "cell_type": "markdown",
   "id": "bf6fa56d",
   "metadata": {},
   "source": [
    "#### Example:\n",
    "        -find the index of element 4."
   ]
  },
  {
   "cell_type": "code",
   "execution_count": 55,
   "id": "47940f86",
   "metadata": {},
   "outputs": [
    {
     "name": "stdout",
     "output_type": "stream",
     "text": [
      "(array([3], dtype=int64),)\n"
     ]
    }
   ],
   "source": [
    "import numpy as np\n",
    "array=np.array([1,2,3,4,5,6,7,8])\n",
    "x=np.where(array==4)\n",
    "print(x)"
   ]
  },
  {
   "cell_type": "markdown",
   "id": "a7ff3ef6",
   "metadata": {},
   "source": [
    "#### Example # 02:\n",
    "          - find a number in 2 D array."
   ]
  },
  {
   "cell_type": "code",
   "execution_count": 56,
   "id": "0ff23fd9",
   "metadata": {},
   "outputs": [
    {
     "name": "stdout",
     "output_type": "stream",
     "text": [
      "[[ 1  2  3  4]\n",
      " [ 5  6  7  8]\n",
      " [ 9 10 11 12]]\n",
      " Mr.Usman Malik The index of 8 is :  (array([0], dtype=int64), array([2], dtype=int64))\n"
     ]
    }
   ],
   "source": [
    "import numpy as np\n",
    "array=np.array([[1,2,3,4],[5,6,7,8],[9,10,11,12]])\n",
    "print(array)\n",
    "y=np.where(array == 3)\n",
    "print(\" Mr.Usman Malik The index of 8 is : \",y)"
   ]
  },
  {
   "cell_type": "markdown",
   "id": "7336c631",
   "metadata": {},
   "source": [
    "#### Example # 03:\n",
    "                  - find all indexes where the numbers are even and odd."
   ]
  },
  {
   "cell_type": "code",
   "execution_count": 57,
   "id": "d4772d03",
   "metadata": {},
   "outputs": [
    {
     "name": "stdout",
     "output_type": "stream",
     "text": [
      "MR .Usman the indexes of even numbers are : (array([ 2,  3,  4,  5,  8, 10, 11, 12, 14], dtype=int64),)\n",
      "MR .Usman the indexes of odd numbers are : (array([ 0,  1,  6,  7,  9, 13, 15], dtype=int64),)\n"
     ]
    }
   ],
   "source": [
    "import numpy as np\n",
    "array=np.array([21,45,76,22,54,32,11,3,4,33,2,34,4324,3,324,23])\n",
    "x=np.where(array%2==0)\n",
    "y=np.where(array%2==1)\n",
    "print(\"MR .Usman the indexes of even numbers are :\", x)\n",
    "print(\"MR .Usman the indexes of odd numbers are :\", y)"
   ]
  },
  {
   "cell_type": "markdown",
   "id": "60f92d99",
   "metadata": {},
   "source": [
    "### Search Sorted:\n",
    "- There is a method called searchsorted() which performs a binary search in the array, and returns the index where the specified value would be inserted to maintain the search order.\n",
    "\n",
    "- The searchsorted() method is assumed to be used on sorted arrays."
   ]
  },
  {
   "cell_type": "markdown",
   "id": "e3b987cb",
   "metadata": {},
   "source": [
    "#### Example :"
   ]
  },
  {
   "cell_type": "code",
   "execution_count": 58,
   "id": "bf3e9b3c",
   "metadata": {},
   "outputs": [
    {
     "name": "stdout",
     "output_type": "stream",
     "text": [
      "3\n"
     ]
    }
   ],
   "source": [
    "import numpy as np\n",
    "\n",
    "arr = np.array([6, 7, 8, 9])\n",
    "\n",
    "x = np.searchsorted(arr, 9)\n",
    "\n",
    "print(x)"
   ]
  },
  {
   "cell_type": "markdown",
   "id": "f8589ef4",
   "metadata": {},
   "source": [
    "#### Example # 02:"
   ]
  },
  {
   "cell_type": "code",
   "execution_count": 59,
   "id": "15cc7b81",
   "metadata": {
    "scrolled": true
   },
   "outputs": [
    {
     "name": "stdout",
     "output_type": "stream",
     "text": [
      "(array([1], dtype=int64),)\n",
      "2\n",
      "[12 34 56 76  3]\n"
     ]
    }
   ],
   "source": [
    "import numpy as np\n",
    "array=np.array([1,21,34,53,22,45])\n",
    "x=np.where(array==21)\n",
    "a=np.searchsorted(array,34)\n",
    "print(x)\n",
    "print(a)\n",
    "print(b)"
   ]
  },
  {
   "cell_type": "markdown",
   "id": "50e793f5",
   "metadata": {},
   "source": [
    "### Search From the Right Side:\n",
    "- By default the left most index is returned, but we can give side='right' to return the right most index instead."
   ]
  },
  {
   "cell_type": "code",
   "execution_count": 60,
   "id": "ae9011d2",
   "metadata": {},
   "outputs": [
    {
     "name": "stdout",
     "output_type": "stream",
     "text": [
      "4\n"
     ]
    }
   ],
   "source": [
    "import numpy as np\n",
    "array=np.array([1,2,3,4,5,6,7,8])\n",
    "t=np.searchsorted(array,4,side='right')\n",
    "print(t)\n"
   ]
  },
  {
   "cell_type": "markdown",
   "id": "5762bc0d",
   "metadata": {},
   "source": [
    "#### Example \n",
    "- seach multiple values ."
   ]
  },
  {
   "cell_type": "code",
   "execution_count": 61,
   "id": "529d326a",
   "metadata": {},
   "outputs": [
    {
     "name": "stdout",
     "output_type": "stream",
     "text": [
      "[1 8 4]\n"
     ]
    }
   ],
   "source": [
    "import numpy as np\n",
    "\n",
    "arr = np.array([1, 3, 5, 7,34,2,21,12,324,34234,])\n",
    "\n",
    "x = np.searchsorted(arr, [2, 34,21])\n",
    "\n",
    "print(x)"
   ]
  },
  {
   "cell_type": "markdown",
   "id": "c5d281c5",
   "metadata": {},
   "source": [
    "## Sorting Arrays:\n",
    "- Sorting means putting elements in an ordered sequence.\n",
    "\n",
    "- Ordered sequence is any sequence that has an order corresponding to elements, like numeric or alphabetical, ascending or descending.\n",
    "\n",
    "- The NumPy ndarray object has a function called sort(), that will sort a specified array."
   ]
  },
  {
   "cell_type": "code",
   "execution_count": 62,
   "id": "4a4d4451",
   "metadata": {},
   "outputs": [
    {
     "name": "stdout",
     "output_type": "stream",
     "text": [
      "[  1  21  26  33  34  77 323]\n"
     ]
    }
   ],
   "source": [
    "import numpy as np\n",
    "array_1=np.array([21,323,1,33,26,77,34])\n",
    "x=np.sort(array_1)\n",
    "print(x)"
   ]
  },
  {
   "cell_type": "markdown",
   "id": "a297619e",
   "metadata": {},
   "source": [
    "- You can also sort arrays of strings, or any other data type."
   ]
  },
  {
   "cell_type": "markdown",
   "id": "dfc5f3a9",
   "metadata": {},
   "source": [
    "#### Example:"
   ]
  },
  {
   "cell_type": "code",
   "execution_count": 63,
   "id": "bcd17f2a",
   "metadata": {},
   "outputs": [
    {
     "name": "stdout",
     "output_type": "stream",
     "text": [
      "['Ahtsham' 'Hadir' 'Usman' 'zain']\n"
     ]
    }
   ],
   "source": [
    "import numpy as np\n",
    "array=np.array([\"Usman\",\"Ahtsham\",\"zain\",\"Hadir\"])\n",
    "x=np.sort(array)\n",
    "print(x)"
   ]
  },
  {
   "cell_type": "markdown",
   "id": "2ca8ea96",
   "metadata": {},
   "source": [
    "### Sorting a 2-D Array:\n",
    "- If you use the sort() method on a 2-D array, both arrays will be sorted.\n",
    "#### Example:"
   ]
  },
  {
   "cell_type": "code",
   "execution_count": 64,
   "id": "4b8b114c",
   "metadata": {},
   "outputs": [
    {
     "name": "stdout",
     "output_type": "stream",
     "text": [
      "[[  6  21  43]\n",
      " [ 12  45 452]]\n"
     ]
    }
   ],
   "source": [
    "import numpy as np\n",
    "array=np.array([[21,43,6],[12,45,452]])\n",
    "x=np.sort(array)\n",
    "print(x)"
   ]
  },
  {
   "cell_type": "markdown",
   "id": "5e1f24e5",
   "metadata": {},
   "source": [
    "## Filtering Arrays:\n",
    "- Getting some elements out of an existing array and creating a new array out of them is called filtering.\n",
    "\n",
    "- In NumPy, you filter an array using a boolean index list.\n",
    "\n",
    "- If the value at an index is True that element is contained in the filtered array, if the value at that index is False that element is excluded from the filtered array."
   ]
  },
  {
   "cell_type": "markdown",
   "id": "d542c157",
   "metadata": {},
   "source": [
    "#### Example:"
   ]
  },
  {
   "cell_type": "code",
   "execution_count": 65,
   "id": "36628101",
   "metadata": {},
   "outputs": [
    {
     "name": "stdout",
     "output_type": "stream",
     "text": [
      "[1 3 5 7 9]\n"
     ]
    }
   ],
   "source": [
    "import numpy as np\n",
    "array_1=np.array([1,2,3,4,5,6,7,8,9])\n",
    "u=[True,False,True,False,True,False,True,False,True]\n",
    "array= array_1[u]\n",
    "print (array)"
   ]
  }
 ],
 "metadata": {
  "kernelspec": {
   "display_name": "Python 3 (ipykernel)",
   "language": "python",
   "name": "python3"
  },
  "language_info": {
   "codemirror_mode": {
    "name": "ipython",
    "version": 3
   },
   "file_extension": ".py",
   "mimetype": "text/x-python",
   "name": "python",
   "nbconvert_exporter": "python",
   "pygments_lexer": "ipython3",
   "version": "3.9.7"
  },
  "vscode": {
   "interpreter": {
    "hash": "04d9506e0ed350ddde8b6de62a35256bd0817574d1ca9ec79c49bcd83c4a4afe"
   }
  }
 },
 "nbformat": 4,
 "nbformat_minor": 5
}
